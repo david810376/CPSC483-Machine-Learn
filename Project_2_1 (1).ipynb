{
  "nbformat": 4,
  "nbformat_minor": 0,
  "metadata": {
    "colab": {
      "name": "Project_2_1.ipynb",
      "provenance": [],
      "collapsed_sections": []
    },
    "kernelspec": {
      "display_name": "Python 3",
      "language": "python",
      "name": "python3"
    },
    "language_info": {
      "codemirror_mode": {
        "name": "ipython",
        "version": 3
      },
      "file_extension": ".py",
      "mimetype": "text/x-python",
      "name": "python",
      "nbconvert_exporter": "python",
      "pygments_lexer": "ipython3",
      "version": "3.7.4"
    }
  },
  "cells": [
    {
      "cell_type": "code",
      "metadata": {
        "colab": {
          "base_uri": "https://localhost:8080/",
          "height": 181
        },
        "id": "2Uv9bHjFF-gS",
        "outputId": "6d401eb2-73cc-4386-8097-27c26d22d511"
      },
      "source": [
        "\"\"\"\n",
        "Project 2 README\n",
        "=====================================\n",
        "\n",
        "Name:\n",
        "NumPy, Polynomial Regression, and Training vs. Test MSE\n",
        "\n",
        "Purpose:\n",
        "\n",
        "Use the scikit-learn module to obtain the data and split \n",
        "it into training and test sets, and NumPy to run linear regression. \n",
        "We will then use the Boston house prices dataset to try and predict \n",
        "the median value of a home given several features of its neighborhood.\n",
        "\n",
        "Authors:\n",
        "\n",
        "Brandon Ryan, Yi Wei Lee, Mina Moslehpour\n",
        "\n",
        "Last modified by Brandon Ryan, October 14 2020\n",
        "\n",
        "Experiments:\n",
        "\n",
        "1.  Load and examine the Boston dataset’s features, target values, \n",
        "    and description.\n",
        "\n",
        "2.  Use sklearn.model_selection.train_test_split() to split the features \n",
        "    and values into separate training and test sets. Use 80% of the original \n",
        "    data as a training set, and 20% for testing.\n",
        "\n",
        "3.  Create a scatterplot of the training set showing the relationship \n",
        "    between the feature LSTAT and the target value MEDV. Does the \n",
        "    relationship appear to be linear?\n",
        "\n",
        "4.  With LSTAT as X and MEDV as t, use np.linalg.inv() to compute w for \n",
        "    the training set. What is the equation for MEDV as a linear function \n",
        "    of LSTAT?\n",
        "\n",
        "5.  Use w to add a line to your scatter plot from experiment (3). \n",
        "    How well does the model appear to fit the training set?\n",
        "\n",
        "6.  Use w to find the response for each value of the LSTAT attribute in the \n",
        "    test set, then compute the test MSE 𝓛 for the model.\n",
        "\n",
        "7.  Now add an x2 column to LSTAT’s x column in the training set, then \n",
        "    repeat experiments (4), (5), and (6) for MEDV as a quadratic function \n",
        "    of LSTAT. Does the quadratic polynomial do a better job of predicting \n",
        "    the values in the test set?\n",
        "\n",
        "8.  Repeat experiment (4) with all 13 input features as X and using \n",
        "    np.linalg.solve(). (See the Appendix to Linear regression in vector \n",
        "    and matrix format for details.) Does adding additional features improve \n",
        "    the performance on the test set compared to using only LSTAT?\n",
        "\n",
        "9.  Now add x2 columns for all 13 features, and repeat experiment (8). \n",
        "    Does adding quadratic features improve the performance on the test set \n",
        "    compared to using only linear features?\n",
        "\n",
        "10. Compute the training MSE for experiments (8) and (9) and compare it to \n",
        "    the test MSE. What explains the difference?\n",
        "\n",
        "11. Repeat experiments (9) and (10), adding x3 columns in addition to the \n",
        "    existing x and x2 columns for each feature. Does the cubic polynomial \n",
        "    do a better job of predicting the values in the training set? Does it do \n",
        "    a better job of predicting the values in the test set?\n",
        "\n",
        "\n",
        "Platforms:\n",
        "\n",
        "Jupyter Notebook\n",
        "\n",
        "Libraries:\n",
        "\n",
        "scikit-learn \n",
        "pandas\n",
        "Matplotlib’s\n",
        "numpy\n",
        "\n",
        "\"\"\""
      ],
      "execution_count": null,
      "outputs": [
        {
          "output_type": "execute_result",
          "data": {
            "application/vnd.google.colaboratory.intrinsic+json": {
              "type": "string"
            },
            "text/plain": [
              "'\\nProject 2 README\\n=====================================\\n\\nName:\\nNumPy, Polynomial Regression, and Training vs. Test MSE\\n\\nPurpose:\\n\\nUse the scikit-learn module to obtain the data and split \\nit into training and test sets, and NumPy to run linear regression. \\nWe will then use the Boston house prices dataset to try and predict \\nthe median value of a home given several features of its neighborhood.\\n\\nAuthors:\\n\\nBrandon Ryan, Yi Wei Lee, Mina Moslehpour\\n\\nLast modified by Brandon Ryan, October 14 2020\\n\\nExperiments:\\n\\n1.  Load and examine the Boston dataset’s features, target values, \\n    and description.\\n\\n2.  Use sklearn.model_selection.train_test_split() to split the features \\n    and values into separate training and test sets. Use 80% of the original \\n    data as a training set, and 20% for testing.\\n\\n3.  Create a scatterplot of the training set showing the relationship \\n    between the feature LSTAT and the target value MEDV. Does the \\n    relationship appear to be linear?\\n\\n4.  With LSTAT as X and MEDV as t, use np.linalg.inv() to compute w for \\n    the training set. What is the equation for MEDV as a linear function \\n    of LSTAT?\\n\\n5.  Use w to add a line to your scatter plot from experiment (3). \\n    How well does the model appear to fit the training set?\\n\\n6.  Use w to find the response for each value of the LSTAT attribute in the \\n    test set, then compute the test MSE 𝓛 for the model.\\n\\n7.  Now add an x2 column to LSTAT’s x column in the training set, then \\n    repeat experiments (4), (5), and (6) for MEDV as a quadratic function \\n    of LSTAT. Does the quadratic polynomial do a better job of predicting \\n    the values in the test set?\\n\\n8.  Repeat experiment (4) with all 13 input features as X and using \\n    np.linalg.solve(). (See the Appendix to Linear regression in vector \\n    and matrix format for details.) Does adding additional features improve \\n    the performance on the test set compared to using only LSTAT?\\n\\n9.  Now add x2 columns for all 13 features, and repeat experiment (8). \\n    Does adding quadratic features improve the performance on the test set \\n    compared to using only linear features?\\n\\n10. Compute the training MSE for experiments (8) and (9) and compare it to \\n    the test MSE. What explains the difference?\\n\\n11. Repeat experiments (9) and (10), adding x3 columns in addition to the \\n    existing x and x2 columns for each feature. Does the cubic polynomial \\n    do a better job of predicting the values in the training set? Does it do \\n    a better job of predicting the values in the test set?\\n\\n\\nPlatforms:\\n\\nJupyter Notebook\\n\\nLibraries:\\n\\nscikit-learn \\npandas\\nMatplotlib’s\\nnumpy\\n\\n'"
            ]
          },
          "metadata": {
            "tags": []
          },
          "execution_count": 113
        }
      ]
    },
    {
      "cell_type": "markdown",
      "metadata": {
        "id": "Ysbvg4jDONsn"
      },
      "source": [
        "### 1. Load and examine the Boston dataset’s features, target values, and description.\n"
      ]
    },
    {
      "cell_type": "code",
      "metadata": {
        "colab": {
          "base_uri": "https://localhost:8080/"
        },
        "id": "bIMpbgEIF-gh",
        "outputId": "4119a689-e053-4635-bbd9-9a98fc0a089a"
      },
      "source": [
        "import numpy as np\n",
        "import matplotlib.pyplot as plotter\n",
        "import pandas as pd\n",
        "from sklearn import preprocessing\n",
        "from sklearn.model_selection import train_test_split\n",
        "from sklearn.datasets import load_boston\n",
        "%matplotlib inline\n",
        "from sklearn import datasets\n",
        "\n",
        "house_prices = datasets.load_boston()\n",
        "print(house_prices.DESCR)"
      ],
      "execution_count": null,
      "outputs": [
        {
          "output_type": "stream",
          "text": [
            ".. _boston_dataset:\n",
            "\n",
            "Boston house prices dataset\n",
            "---------------------------\n",
            "\n",
            "**Data Set Characteristics:**  \n",
            "\n",
            "    :Number of Instances: 506 \n",
            "\n",
            "    :Number of Attributes: 13 numeric/categorical predictive. Median Value (attribute 14) is usually the target.\n",
            "\n",
            "    :Attribute Information (in order):\n",
            "        - CRIM     per capita crime rate by town\n",
            "        - ZN       proportion of residential land zoned for lots over 25,000 sq.ft.\n",
            "        - INDUS    proportion of non-retail business acres per town\n",
            "        - CHAS     Charles River dummy variable (= 1 if tract bounds river; 0 otherwise)\n",
            "        - NOX      nitric oxides concentration (parts per 10 million)\n",
            "        - RM       average number of rooms per dwelling\n",
            "        - AGE      proportion of owner-occupied units built prior to 1940\n",
            "        - DIS      weighted distances to five Boston employment centres\n",
            "        - RAD      index of accessibility to radial highways\n",
            "        - TAX      full-value property-tax rate per $10,000\n",
            "        - PTRATIO  pupil-teacher ratio by town\n",
            "        - B        1000(Bk - 0.63)^2 where Bk is the proportion of blacks by town\n",
            "        - LSTAT    % lower status of the population\n",
            "        - MEDV     Median value of owner-occupied homes in $1000's\n",
            "\n",
            "    :Missing Attribute Values: None\n",
            "\n",
            "    :Creator: Harrison, D. and Rubinfeld, D.L.\n",
            "\n",
            "This is a copy of UCI ML housing dataset.\n",
            "https://archive.ics.uci.edu/ml/machine-learning-databases/housing/\n",
            "\n",
            "\n",
            "This dataset was taken from the StatLib library which is maintained at Carnegie Mellon University.\n",
            "\n",
            "The Boston house-price data of Harrison, D. and Rubinfeld, D.L. 'Hedonic\n",
            "prices and the demand for clean air', J. Environ. Economics & Management,\n",
            "vol.5, 81-102, 1978.   Used in Belsley, Kuh & Welsch, 'Regression diagnostics\n",
            "...', Wiley, 1980.   N.B. Various transformations are used in the table on\n",
            "pages 244-261 of the latter.\n",
            "\n",
            "The Boston house-price data has been used in many machine learning papers that address regression\n",
            "problems.   \n",
            "     \n",
            ".. topic:: References\n",
            "\n",
            "   - Belsley, Kuh & Welsch, 'Regression diagnostics: Identifying Influential Data and Sources of Collinearity', Wiley, 1980. 244-261.\n",
            "   - Quinlan,R. (1993). Combining Instance-Based and Model-Based Learning. In Proceedings on the Tenth International Conference of Machine Learning, 236-243, University of Massachusetts, Amherst. Morgan Kaufmann.\n",
            "\n"
          ],
          "name": "stdout"
        }
      ]
    },
    {
      "cell_type": "markdown",
      "metadata": {
        "id": "Mzkysqrxk5kN"
      },
      "source": [
        "### 2. Use sklearn.model_selection.train_test_split() to split the features and target values into separate training and test sets. Use 80% of the original data as a training set, and 20% for testing."
      ]
    },
    {
      "cell_type": "code",
      "metadata": {
        "id": "eOu4TnyEWOVn"
      },
      "source": [
        "import numpy as np\n",
        "import pandas as pd\n",
        "from sklearn.linear_model import LinearRegression\n",
        "from sklearn import metrics\n",
        "from sklearn import model_selection\n",
        "from sklearn.model_selection import train_test_split\n",
        "\n",
        "\n",
        "# load into panda's type\n",
        "df_boston_features = pd.DataFrame(data = house_prices.data, columns = house_prices.feature_names)\n",
        "df_boston_target = pd.DataFrame(house_prices.target, columns = ['MEDV'])\n",
        "df_boston_features.insert(len(df_boston_features.columns), 'TARGET', house_prices.target)\n",
        "\n",
        "# Getting the LSTAT column to use as a Predictor of MEDV\n",
        "LSTAT = df_boston_features['LSTAT'].values.reshape(-1,1)\n",
        "\n",
        "# Getting MEDV column from Y and transforming to column vector\n",
        "MEDV = df_boston_target['MEDV'].values.reshape(-1,1)\n",
        "\n",
        "# Using train_test_split to have 80% train and 20% test data sizes\n",
        "X_train, X_test, Y_train, Y_test = model_selection.train_test_split(LSTAT, MEDV, test_size=0.2, random_state=0)\n",
        "train, test = model_selection.train_test_split(df_boston_features, test_size=0.2, random_state=0)\n",
        "x_train, x_test, y_train, y_test = train_test_split(df_boston_features, df_boston_target, test_size=.2)\n"
      ],
      "execution_count": null,
      "outputs": []
    },
    {
      "cell_type": "markdown",
      "metadata": {
        "id": "-bClth62kqks"
      },
      "source": [
        "###3. Create a scatterplot of the training set showing the relationship between the feature LSTAT and the target value MEDV. Does the relationship appear to be linear?"
      ]
    },
    {
      "cell_type": "code",
      "metadata": {
        "colab": {
          "base_uri": "https://localhost:8080/",
          "height": 265
        },
        "id": "a73JaWOUF-g6",
        "scrolled": true,
        "outputId": "f63ab61f-68cc-47d0-e586-62dbe5b4ad86"
      },
      "source": [
        "from sklearn.linear_model import LinearRegression\n",
        "from sklearn import metrics\n",
        "from sklearn.model_selection import train_test_split\n",
        "import matplotlib.pyplot as plotter\n",
        "\n",
        "\n",
        "model = LinearRegression()\n",
        "model.fit(X_train, Y_train)\n",
        "Y_train_pred = model.predict(X_train)\n",
        "\n",
        "plotter.scatter(X_train, Y_train,  color='black')\n",
        "plotter.plot(X_train, Y_train_pred, color='green', linewidth=3)\n",
        "plotter.show()"
      ],
      "execution_count": null,
      "outputs": [
        {
          "output_type": "display_data",
          "data": {
            "image/png": "[encoded data removed]",
            "text/plain": [
              "<Figure size 432x288 with 1 Axes>"
            ]
          },
          "metadata": {
            "tags": [],
            "needs_background": "light"
          }
        }
      ]
    },
    {
      "cell_type": "markdown",
      "metadata": {
        "id": "DDgRTODhkhd_"
      },
      "source": [
        "No, the relationship between the feature LSTAT and the target value MEDV does not appear to be linear."
      ]
    },
    {
      "cell_type": "markdown",
      "metadata": {
        "id": "YQzgKJVulKNp"
      },
      "source": [
        "### 4. With LSTAT as X and MEDV as t, use np.linalg.inv() to compute w for the training set. What is the equation for MEDV as a linear function of LSTAT?"
      ]
    },
    {
      "cell_type": "code",
      "metadata": {
        "colab": {
          "base_uri": "https://localhost:8080/"
        },
        "id": "tHeMyW3XeNy5",
        "outputId": "dd4fde1e-61da-43ce-9b88-efb4551ebae1"
      },
      "source": [
        " from numpy.linalg import inv\n",
        "\n",
        "X = np.hstack((np.ones_like(LSTAT),LSTAT))\n",
        "t = MEDV\n",
        "\n",
        "XX = np.dot(X.T,X)\n",
        "invXX = np.linalg.inv(XX)\n",
        "Xt = np.dot(X.T,t)\n",
        "w=np.dot(invXX,Xt)\n",
        "w"
      ],
      "execution_count": null,
      "outputs": [
        {
          "output_type": "execute_result",
          "data": {
            "text/plain": [
              "array([[34.55384088],\n",
              "       [-0.95004935]])"
            ]
          },
          "metadata": {
            "tags": []
          },
          "execution_count": 117
        }
      ]
    },
    {
      "cell_type": "markdown",
      "metadata": {
        "id": "26KBQogalNSt"
      },
      "source": [
        "Therefore our equation for MEDV as a linear function of LSTAT is y = (-0.95004935)x + 34.55384088"
      ]
    },
    {
      "cell_type": "markdown",
      "metadata": {
        "id": "NUqKiGEulRZK"
      },
      "source": [
        "### 5. Use w to add a line to your scatter plot from experiment (3). How well does the model appear to fit the training set?"
      ]
    },
    {
      "cell_type": "code",
      "metadata": {
        "colab": {
          "base_uri": "https://localhost:8080/",
          "height": 265
        },
        "id": "yKnIhxIK-LhM",
        "outputId": "17feee73-c066-401d-e90e-6c78fd62f3be"
      },
      "source": [
        "from sklearn.metrics import mean_squared_error\n",
        "\n",
        "\n",
        "\n",
        "##model = LinearRegression()\n",
        "##model.fit(X_train, Y_train)\n",
        "##Y_train_pred = model.predict(X_train)\n",
        "\n",
        "##plotter.scatter(X_train, Y_train,  color='black')\n",
        "##plotter.plot(X_train, Y_train_pred, color='green', linewidth=3)\n",
        "##plotter.show()\n",
        "\n",
        "predictValue = model.predict(w)\n",
        "\n",
        "##plotter.figure()\n",
        "\n",
        "plotter.scatter(X_train,Y_train)\n",
        "plotter.plot(w,predictValue, color=\"red\",linewidth=1.0, linestyle = '-')\n",
        "plotter.show()\n"
      ],
      "execution_count": null,
      "outputs": [
        {
          "output_type": "display_data",
          "data": {
            "image/png": "[encoded data removed]",
            "text/plain": [
              "<Figure size 432x288 with 1 Axes>"
            ]
          },
          "metadata": {
            "tags": [],
            "needs_background": "light"
          }
        }
      ]
    },
    {
      "cell_type": "markdown",
      "metadata": {
        "id": "SmL0nkZUlXpB"
      },
      "source": [
        "### 6. Use w to find the response for each value of the LSTAT attribute in the test set, then compute the test MSE 𝓛 for the model."
      ]
    },
    {
      "cell_type": "code",
      "metadata": {
        "id": "9agKhDBm-Pxn",
        "colab": {
          "base_uri": "https://localhost:8080/"
        },
        "outputId": "36681f70-a473-4342-df51-69c8f941210a"
      },
      "source": [
        "##passing the wrong values to mean_squared_error(),\n",
        "## and shouldn't be calling mean_squared_error() at all -- compute the answers yourself.\n",
        "## y=mx+c\n",
        "predict_wre = ((w[1] * X_test) + w[0])\n",
        "##w, residuals = np.linalg.lstsq(w,LSTAT.T)\n",
        "##MSE = np.mean(resuiduals)\n",
        "\n",
        "##print(w.T.shape)\n",
        "##print(X_test.shape)\n",
        "\n",
        "\n",
        "#y_pred = np.hstack((np.ones_like(X_test),X_test))\n",
        "##predict_wre = np.dot(y_pred,w)\n",
        "#mse = np.square(np.subtract(y_pred, predict_wre)).mean()\n",
        "\n",
        "#print(mse)\n",
        "\n",
        "y_pred = np.array([])\n",
        "for x in x_test['LSTAT']:\n",
        "    y_pred = np.append(y_pred, x*w[1][0]+w[0][0])\n",
        "    \n",
        "mse = np.square(np.subtract(y_pred, predict_wre)).mean()\n",
        "print(mse)"
      ],
      "execution_count": null,
      "outputs": [
        {
          "output_type": "stream",
          "text": [
            "85.7146766877445\n"
          ],
          "name": "stdout"
        }
      ]
    },
    {
      "cell_type": "markdown",
      "metadata": {
        "id": "wvTTg0g9ld7S"
      },
      "source": [
        "### 7. Now add an x2 column to LSTAT’s x column in the training set, then repeat experiments (4), (5), and (6) for MEDV as a quadratic function of LSTAT. Does the quadratic polynomial do a better job of predicting the values in the test set?"
      ]
    },
    {
      "cell_type": "code",
      "metadata": {
        "colab": {
          "base_uri": "https://localhost:8080/"
        },
        "id": "0dEpThrHkVPk",
        "outputId": "65f0de01-f951-4616-f922-ca331e94ae77"
      },
      "source": [
        "## using np.polyfit() and np.polyval() to use np.linalg.inv() and/or np.np.linalg.lstsq() as directed\n",
        "\n",
        "\n",
        "from numpy.linalg import inv\n",
        "\n",
        "x2 = np.square(X_train)\n",
        "x2 = np.array(x2).reshape([-1,1])\n",
        "X = np.hstack((np.ones_like(x2),np.array(train['LSTAT']).reshape([-1,1]), x2))\n",
        "t = np.array(Y_train).reshape([-1,1])\n",
        "XX2 = np.dot(X.T,X)\n",
        "invXX2 = np.linalg.inv(XX2)\n",
        "Xt2 = np.dot(X.T, t)\n",
        "w2 = np.dot(invXX2, Xt2)\n",
        "print(w2)\n"
      ],
      "execution_count": null,
      "outputs": [
        {
          "output_type": "stream",
          "text": [
            "[[43.1090092 ]\n",
            " [-2.36696305]\n",
            " [ 0.04463347]]\n"
          ],
          "name": "stdout"
        }
      ]
    },
    {
      "cell_type": "code",
      "metadata": {
        "colab": {
          "base_uri": "https://localhost:8080/",
          "height": 295
        },
        "id": "W-LRtF39Uf9B",
        "outputId": "6e65e7d6-688d-46d3-ea1a-bbbce06e33bc"
      },
      "source": [
        "## only one line\n",
        "\n",
        "from sklearn.metrics import mean_squared_error\n",
        "\n",
        "plotter.scatter(x_train['LSTAT'], y_train)\n",
        "x = np.linspace(0, 40, 100)\n",
        "plotter.plot(x, (x**2)*w2[2][0]+x*w2[1][0]+ w2[0][0], color='red')\n",
        "plotter.xlabel('LSTAT')\n",
        "plotter.ylabel('MEDV')\n"
      ],
      "execution_count": null,
      "outputs": [
        {
          "output_type": "execute_result",
          "data": {
            "text/plain": [
              "Text(0, 0.5, 'MEDV')"
            ]
          },
          "metadata": {
            "tags": []
          },
          "execution_count": 121
        },
        {
          "output_type": "display_data",
          "data": {
            "image/png": "[encoded data removed]",
            "text/plain": [
              "<Figure size 432x288 with 1 Axes>"
            ]
          },
          "metadata": {
            "tags": [],
            "needs_background": "light"
          }
        }
      ]
    },
    {
      "cell_type": "code",
      "metadata": {
        "id": "KV6U6Fm3UqhH",
        "colab": {
          "base_uri": "https://localhost:8080/"
        },
        "outputId": "5d5b88a7-4caa-4ff1-ada1-e2c18620eccf"
      },
      "source": [
        "### using np.polyfit() and np.polyval() to use np.linalg.inv() and/or np.np.linalg.lstsq() as directed\n",
        "\n",
        "\n",
        "y_pred2 = np.array([])\n",
        "for x in x_test['LSTAT']:\n",
        "    y_pred2 = np.append(y_pred2, x*w[1][0]+w[0][0])\n",
        "    \n",
        "mse = np.square(np.subtract(y_pred, predict_wre)).mean()\n",
        "print(mse)\n",
        "\n",
        "\n"
      ],
      "execution_count": null,
      "outputs": [
        {
          "output_type": "stream",
          "text": [
            "85.7146766877445\n"
          ],
          "name": "stdout"
        }
      ]
    },
    {
      "cell_type": "markdown",
      "metadata": {
        "id": "MyBvpF4olgqy"
      },
      "source": [
        "yes, it turns out that they both have similar result."
      ]
    },
    {
      "cell_type": "markdown",
      "metadata": {
        "id": "-9vU95wRlmSb"
      },
      "source": [
        "### 8. Repeat experiments (4) and (6) with all 13 input features as X and using np.linalg.lstsq(). (See the Appendix to Linear regression in vector and matrix format for details of why we need to switch away from np.linalg.inv(), and the notes for np.linalg.solve() for why we shouldn’t use that either.) Does adding additional features improve the performance on the test set compared to using only LSTAT?\n"
      ]
    },
    {
      "cell_type": "code",
      "metadata": {
        "id": "kQxtP2AjkWEQ",
        "colab": {
          "base_uri": "https://localhost:8080/"
        },
        "outputId": "8cda4b33-44f3-40d6-ff5e-d0c0622c80b0"
      },
      "source": [
        "\n",
        "\n",
        "#for feature in df_boston_features:\n",
        "#  X_all = np.hstack((np.ones_like(feature),feature))\n",
        "#  t = MEDV\n",
        "#  XX = np.dot(X_all.T, X_all)\n",
        "#  invXX = np.linalg.inv(XX)\n",
        "#  Xt = np.dot(X_all.T, t)\n",
        "#  w = np.dot(invXX , Xt)\n",
        "\n",
        " # print(w)\n",
        "\n",
        "X_all = train[[\n",
        "    'CRIM', 'ZN', 'INDUS', 'CHAS', 'NOX', 'RM', 'AGE', 'DIS', 'RAD', 'TAX', 'PTRATIO', 'B', 'LSTAT'\n",
        "]].to_numpy()\n",
        "X_all = np.hstack((\n",
        "    np.ones((X_all.shape[0], 1)),\n",
        "    X_all\n",
        "))\n",
        "result = np.linalg.lstsq(X_all, train[\"TARGET\"], rcond=None)\n",
        "w8 = result[0]\n",
        "r = result[1]\n",
        "\n",
        "print(w8)\n",
        "print(r)"
      ],
      "execution_count": null,
      "outputs": [
        {
          "output_type": "stream",
          "text": [
            "[ 3.80916949e+01 -1.19443447e-01  4.47799511e-02  5.48526168e-03\n",
            "  2.34080361e+00 -1.61236043e+01  3.70870901e+00 -3.12108178e-03\n",
            " -1.38639737e+00  2.44178327e-01 -1.09896366e-02 -1.04592119e+00\n",
            "  8.11010693e-03 -4.92792725e-01]\n",
            "[7807.89396225]\n"
          ],
          "name": "stdout"
        }
      ]
    },
    {
      "cell_type": "markdown",
      "metadata": {
        "id": "uYaPCy2y8-K3"
      },
      "source": [
        "No the adding of additional features does not improve the performance on the test set compared to using only LSTAT.\n"
      ]
    },
    {
      "cell_type": "markdown",
      "metadata": {
        "id": "VDPDiydfl1sQ"
      },
      "source": [
        "### 9. Now add x2 columns for all 13 features, and repeat experiment (8). Does adding quadratic features improve the performance on the test set compared to using only linear features?"
      ]
    },
    {
      "cell_type": "code",
      "metadata": {
        "id": "wGiGR91BkWkc",
        "colab": {
          "base_uri": "https://localhost:8080/"
        },
        "outputId": "676f2e7e-33b9-4d72-9745-a7318c940028"
      },
      "source": [
        "#x = X_all[:,0][:,None]\n",
        "#t = X_all[:,1][:,None]\n",
        "\n",
        "X_all_squared = X_all**2\n",
        "result = np.linalg.lstsq(X_all_squared, train[\"TARGET\"], rcond=None)\n",
        "\n",
        "w9 = result[0]\n",
        "r = result[1]\n",
        "\n",
        "print(w9)\n",
        "print(r)\n",
        "#for i in range(1, 14):\n",
        "#    X = np.hstack((X, x**i))\n"
      ],
      "execution_count": null,
      "outputs": [
        {
          "output_type": "stream",
          "text": [
            "[ 2.05502251e+01 -1.57160836e-03  5.09383176e-04  3.34634444e-03\n",
            "  2.43599448e+00 -1.10453733e+01  4.32862823e-01 -1.51185689e-04\n",
            " -7.89607344e-02  6.83007707e-03 -1.24543623e-05 -3.14364636e-02\n",
            "  2.41652558e-05 -7.54293220e-03]\n",
            "[8786.83685322]\n"
          ],
          "name": "stdout"
        }
      ]
    },
    {
      "cell_type": "markdown",
      "metadata": {
        "id": "6Rtx-wRVl4r8"
      },
      "source": [
        "### 10. Compute the training MSE for experiments (8) and (9) and compare it to the test MSE. What explains the difference?"
      ]
    },
    {
      "cell_type": "code",
      "metadata": {
        "id": "M3TA_YT6l7pG",
        "colab": {
          "base_uri": "https://localhost:8080/"
        },
        "outputId": "30a22960-bc98-4f36-8c9b-c02d0b9c9b4f"
      },
      "source": [
        "X = np.hstack((np.ones((X_train.shape[0],1)),X_train))\n",
        "t = Y_train\n",
        "w = np.linalg.lstsq(X,t, rcond=None)\n",
        "train_data = np.hstack((np.ones((X_train.shape[0],1)),X_train))\n",
        "test_data = np.hstack((np.ones((X_test.shape[0],1)),X_test))\n",
        "pred_train = np.dot(train_data,w[0])\n",
        "pred_test = np.dot(test_data,w[0])\n",
        "train_MSE = mean_squared_error(Y_train,pred_train)\n",
        "test_MSE = mean_squared_error(Y_test,pred_test)\n",
        "print(\"All train MSE: \", train_MSE)\n",
        "print(\"All test MSE: \", test_MSE)\n",
        "\n",
        "X = np.hstack((np.ones((X_train.shape[0],1)),X_train,X_train*X_train))\n",
        "t = Y_train\n",
        "w = np.linalg.lstsq(X,t,rcond=None)\n",
        "train_data = np.hstack((np.ones((X_train.shape[0],1)),X_train,X_train*X_train))\n",
        "test_data = np.hstack((np.ones((X_test.shape[0],1)),X_test,X_test*X_test))\n",
        "pred_train = np.dot(train_data,w[0])\n",
        "pred_test = np.dot(test_data,w[0])\n",
        "train_MSE = mean_squared_error(Y_train,pred_train)\n",
        "test_MSE = mean_squared_error(Y_test,pred_test)\n",
        "print(\"All train MSE for ^2: \", train_MSE)\n",
        "print(\"All test MSE for ^2: \", test_MSE)\n",
        "\n"
      ],
      "execution_count": null,
      "outputs": [
        {
          "output_type": "stream",
          "text": [
            "All train MSE:  36.52396640695966\n",
            "All test MSE:  46.336305360025946\n",
            "All train MSE for ^2:  28.18917233416823\n",
            "All test MSE for ^2:  38.8468686617073\n"
          ],
          "name": "stdout"
        }
      ]
    },
    {
      "cell_type": "markdown",
      "metadata": {
        "id": "mBWP6TgZ9bFZ"
      },
      "source": [
        "The difference can be explained by the increase in dimensions of the training data which translates to comparatively better test MSE, i.e 1.675 with 1 dimension and then 4.878 with 2 dimensions."
      ]
    },
    {
      "cell_type": "markdown",
      "metadata": {
        "id": "bT_7G4IPl7_k"
      },
      "source": [
        "### 11. Repeat experiments (9) and (10), adding x3 columns in addition to the existing x and x2 columns for each feature. Does the cubic polynomial do a better job of predicting the values in the training set? Does it do a better job of predicting the values in the test set?"
      ]
    },
    {
      "cell_type": "code",
      "metadata": {
        "id": "bo3D4Cchl8RX",
        "colab": {
          "base_uri": "https://localhost:8080/"
        },
        "outputId": "168a9739-33c8-42f4-9fb7-624b6cf5628c"
      },
      "source": [
        "X = np.hstack((np.ones((X_train.shape[0],1)),X_train,X_train*X_train*X_train))\n",
        "t = Y_train\n",
        "w = np.linalg.lstsq(X,t,rcond=None)\n",
        "train_data = np.hstack((np.ones((X_train.shape[0],1)),X_train,X_train*X_train*X_train))\n",
        "test_data = np.hstack((np.ones((X_test.shape[0],1)),X_test,X_test*X_test*X_test))\n",
        "pred_train = np.dot(train_data,w[0])\n",
        "pred_test = np.dot(test_data,w[0])\n",
        "train_MSE = mean_squared_error(Y_train,pred_train)\n",
        "test_MSE = mean_squared_error(Y_test,pred_test)\n",
        "print(\"All train MSE for ^3: \", train_MSE)\n",
        "print(\"All test MSE for ^3: \", test_MSE)\n",
        "\n"
      ],
      "execution_count": null,
      "outputs": [
        {
          "output_type": "stream",
          "text": [
            "All train MSE for ^3:  29.5194107271717\n",
            "All test MSE for ^3:  40.38105526776957\n"
          ],
          "name": "stdout"
        }
      ]
    },
    {
      "cell_type": "markdown",
      "metadata": {
        "id": "mSNBW5vK8XII"
      },
      "source": [
        "Yes the cubic polynomial does a better job of predicting the values in the training set as well as the test set and exhibits overfitting."
      ]
    }
  ]
}