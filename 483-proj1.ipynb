{
  "nbformat": 4,
  "nbformat_minor": 0,
  "metadata": {
    "kernelspec": {
      "display_name": "Python 3",
      "language": "python",
      "name": "python3"
    },
    "language_info": {
      "codemirror_mode": {
        "name": "ipython",
        "version": 3
      },
      "file_extension": ".py",
      "mimetype": "text/x-python",
      "name": "python",
      "nbconvert_exporter": "python",
      "pygments_lexer": "ipython3",
      "version": "3.8.3"
    },
    "colab": {
      "name": "483proj1t.ipynb",
      "provenance": [],
      "collapsed_sections": []
    }
  },
  "cells": [
    {
      "cell_type": "markdown",
      "metadata": {
        "id": "FWj23p6upcmR"
      },
      "source": [
        "# 483-01 project 1\n",
        "\n",
        "## Yi-Wei Lee\n",
        "## Mina Moslehpour"
      ]
    },
    {
      "cell_type": "markdown",
      "metadata": {
        "id": "xskpRuqXpcmR"
      },
      "source": [
        "### 1. Load and examine the Boston dataset’s features, target values, and description.\n"
      ]
    },
    {
      "cell_type": "code",
      "metadata": {
        "colab": {
          "base_uri": "https://localhost:8080/"
        },
        "id": "tEvYDJcppcmR",
        "outputId": "0ba5290b-c8ae-4e40-9ca7-85844ce0e9bc"
      },
      "source": [
        "from sklearn.datasets import load_boston\n",
        "\n",
        "dataset_boston = load_boston()\n",
        "\n",
        "Descr = dataset_boston['DESCR']\n",
        "\n",
        "print(Descr)"
      ],
      "execution_count": null,
      "outputs": [
        {
          "output_type": "stream",
          "text": [
            ".. _boston_dataset:\n",
            "\n",
            "Boston house prices dataset\n",
            "---------------------------\n",
            "\n",
            "**Data Set Characteristics:**  \n",
            "\n",
            "    :Number of Instances: 506 \n",
            "\n",
            "    :Number of Attributes: 13 numeric/categorical predictive. Median Value (attribute 14) is usually the target.\n",
            "\n",
            "    :Attribute Information (in order):\n",
            "        - CRIM     per capita crime rate by town\n",
            "        - ZN       proportion of residential land zoned for lots over 25,000 sq.ft.\n",
            "        - INDUS    proportion of non-retail business acres per town\n",
            "        - CHAS     Charles River dummy variable (= 1 if tract bounds river; 0 otherwise)\n",
            "        - NOX      nitric oxides concentration (parts per 10 million)\n",
            "        - RM       average number of rooms per dwelling\n",
            "        - AGE      proportion of owner-occupied units built prior to 1940\n",
            "        - DIS      weighted distances to five Boston employment centres\n",
            "        - RAD      index of accessibility to radial highways\n",
            "        - TAX      full-value property-tax rate per $10,000\n",
            "        - PTRATIO  pupil-teacher ratio by town\n",
            "        - B        1000(Bk - 0.63)^2 where Bk is the proportion of blacks by town\n",
            "        - LSTAT    % lower status of the population\n",
            "        - MEDV     Median value of owner-occupied homes in $1000's\n",
            "\n",
            "    :Missing Attribute Values: None\n",
            "\n",
            "    :Creator: Harrison, D. and Rubinfeld, D.L.\n",
            "\n",
            "This is a copy of UCI ML housing dataset.\n",
            "https://archive.ics.uci.edu/ml/machine-learning-databases/housing/\n",
            "\n",
            "\n",
            "This dataset was taken from the StatLib library which is maintained at Carnegie Mellon University.\n",
            "\n",
            "The Boston house-price data of Harrison, D. and Rubinfeld, D.L. 'Hedonic\n",
            "prices and the demand for clean air', J. Environ. Economics & Management,\n",
            "vol.5, 81-102, 1978.   Used in Belsley, Kuh & Welsch, 'Regression diagnostics\n",
            "...', Wiley, 1980.   N.B. Various transformations are used in the table on\n",
            "pages 244-261 of the latter.\n",
            "\n",
            "The Boston house-price data has been used in many machine learning papers that address regression\n",
            "problems.   \n",
            "     \n",
            ".. topic:: References\n",
            "\n",
            "   - Belsley, Kuh & Welsch, 'Regression diagnostics: Identifying Influential Data and Sources of Collinearity', Wiley, 1980. 244-261.\n",
            "   - Quinlan,R. (1993). Combining Instance-Based and Model-Based Learning. In Proceedings on the Tenth International Conference of Machine Learning, 236-243, University of Massachusetts, Amherst. Morgan Kaufmann.\n",
            "\n"
          ],
          "name": "stdout"
        }
      ]
    },
    {
      "cell_type": "code",
      "metadata": {
        "colab": {
          "base_uri": "https://localhost:8080/",
          "height": 204
        },
        "id": "685znlaIpcmT",
        "outputId": "c7e26cc4-b9b4-42a6-c24f-70a7454bd535"
      },
      "source": [
        "import pandas as pd\n",
        "\n",
        "# Independent variables (i.e. features)\n",
        "df_boston_features = pd.DataFrame(data=dataset_boston.data,\n",
        "                                  columns=dataset_boston.feature_names)\n",
        "df_boston_features.head()"
      ],
      "execution_count": null,
      "outputs": [
        {
          "output_type": "execute_result",
          "data": {
            "text/html": [
              "<div>\n",
              "<style scoped>\n",
              "    .dataframe tbody tr th:only-of-type {\n",
              "        vertical-align: middle;\n",
              "    }\n",
              "\n",
              "    .dataframe tbody tr th {\n",
              "        vertical-align: top;\n",
              "    }\n",
              "\n",
              "    .dataframe thead th {\n",
              "        text-align: right;\n",
              "    }\n",
              "</style>\n",
              "<table border=\"1\" class=\"dataframe\">\n",
              "  <thead>\n",
              "    <tr style=\"text-align: right;\">\n",
              "      <th></th>\n",
              "      <th>CRIM</th>\n",
              "      <th>ZN</th>\n",
              "      <th>INDUS</th>\n",
              "      <th>CHAS</th>\n",
              "      <th>NOX</th>\n",
              "      <th>RM</th>\n",
              "      <th>AGE</th>\n",
              "      <th>DIS</th>\n",
              "      <th>RAD</th>\n",
              "      <th>TAX</th>\n",
              "      <th>PTRATIO</th>\n",
              "      <th>B</th>\n",
              "      <th>LSTAT</th>\n",
              "    </tr>\n",
              "  </thead>\n",
              "  <tbody>\n",
              "    <tr>\n",
              "      <th>0</th>\n",
              "      <td>0.00632</td>\n",
              "      <td>18.0</td>\n",
              "      <td>2.31</td>\n",
              "      <td>0.0</td>\n",
              "      <td>0.538</td>\n",
              "      <td>6.575</td>\n",
              "      <td>65.2</td>\n",
              "      <td>4.0900</td>\n",
              "      <td>1.0</td>\n",
              "      <td>296.0</td>\n",
              "      <td>15.3</td>\n",
              "      <td>396.90</td>\n",
              "      <td>4.98</td>\n",
              "    </tr>\n",
              "    <tr>\n",
              "      <th>1</th>\n",
              "      <td>0.02731</td>\n",
              "      <td>0.0</td>\n",
              "      <td>7.07</td>\n",
              "      <td>0.0</td>\n",
              "      <td>0.469</td>\n",
              "      <td>6.421</td>\n",
              "      <td>78.9</td>\n",
              "      <td>4.9671</td>\n",
              "      <td>2.0</td>\n",
              "      <td>242.0</td>\n",
              "      <td>17.8</td>\n",
              "      <td>396.90</td>\n",
              "      <td>9.14</td>\n",
              "    </tr>\n",
              "    <tr>\n",
              "      <th>2</th>\n",
              "      <td>0.02729</td>\n",
              "      <td>0.0</td>\n",
              "      <td>7.07</td>\n",
              "      <td>0.0</td>\n",
              "      <td>0.469</td>\n",
              "      <td>7.185</td>\n",
              "      <td>61.1</td>\n",
              "      <td>4.9671</td>\n",
              "      <td>2.0</td>\n",
              "      <td>242.0</td>\n",
              "      <td>17.8</td>\n",
              "      <td>392.83</td>\n",
              "      <td>4.03</td>\n",
              "    </tr>\n",
              "    <tr>\n",
              "      <th>3</th>\n",
              "      <td>0.03237</td>\n",
              "      <td>0.0</td>\n",
              "      <td>2.18</td>\n",
              "      <td>0.0</td>\n",
              "      <td>0.458</td>\n",
              "      <td>6.998</td>\n",
              "      <td>45.8</td>\n",
              "      <td>6.0622</td>\n",
              "      <td>3.0</td>\n",
              "      <td>222.0</td>\n",
              "      <td>18.7</td>\n",
              "      <td>394.63</td>\n",
              "      <td>2.94</td>\n",
              "    </tr>\n",
              "    <tr>\n",
              "      <th>4</th>\n",
              "      <td>0.06905</td>\n",
              "      <td>0.0</td>\n",
              "      <td>2.18</td>\n",
              "      <td>0.0</td>\n",
              "      <td>0.458</td>\n",
              "      <td>7.147</td>\n",
              "      <td>54.2</td>\n",
              "      <td>6.0622</td>\n",
              "      <td>3.0</td>\n",
              "      <td>222.0</td>\n",
              "      <td>18.7</td>\n",
              "      <td>396.90</td>\n",
              "      <td>5.33</td>\n",
              "    </tr>\n",
              "  </tbody>\n",
              "</table>\n",
              "</div>"
            ],
            "text/plain": [
              "      CRIM    ZN  INDUS  CHAS    NOX  ...  RAD    TAX  PTRATIO       B  LSTAT\n",
              "0  0.00632  18.0   2.31   0.0  0.538  ...  1.0  296.0     15.3  396.90   4.98\n",
              "1  0.02731   0.0   7.07   0.0  0.469  ...  2.0  242.0     17.8  396.90   9.14\n",
              "2  0.02729   0.0   7.07   0.0  0.469  ...  2.0  242.0     17.8  392.83   4.03\n",
              "3  0.03237   0.0   2.18   0.0  0.458  ...  3.0  222.0     18.7  394.63   2.94\n",
              "4  0.06905   0.0   2.18   0.0  0.458  ...  3.0  222.0     18.7  396.90   5.33\n",
              "\n",
              "[5 rows x 13 columns]"
            ]
          },
          "metadata": {
            "tags": []
          },
          "execution_count": 73
        }
      ]
    },
    {
      "cell_type": "code",
      "metadata": {
        "colab": {
          "base_uri": "https://localhost:8080/",
          "height": 204
        },
        "id": "pH-hpjAJpcmX",
        "outputId": "11b88285-4bec-4207-ca29-b0f149af88be"
      },
      "source": [
        "# Dependent variables (i.e. targets)\n",
        "df_boston_target = pd.DataFrame(data=dataset_boston.target,\n",
        "                                columns=['MEDV'])\n",
        "df_boston_target.head()"
      ],
      "execution_count": null,
      "outputs": [
        {
          "output_type": "execute_result",
          "data": {
            "text/html": [
              "<div>\n",
              "<style scoped>\n",
              "    .dataframe tbody tr th:only-of-type {\n",
              "        vertical-align: middle;\n",
              "    }\n",
              "\n",
              "    .dataframe tbody tr th {\n",
              "        vertical-align: top;\n",
              "    }\n",
              "\n",
              "    .dataframe thead th {\n",
              "        text-align: right;\n",
              "    }\n",
              "</style>\n",
              "<table border=\"1\" class=\"dataframe\">\n",
              "  <thead>\n",
              "    <tr style=\"text-align: right;\">\n",
              "      <th></th>\n",
              "      <th>MEDV</th>\n",
              "    </tr>\n",
              "  </thead>\n",
              "  <tbody>\n",
              "    <tr>\n",
              "      <th>0</th>\n",
              "      <td>24.0</td>\n",
              "    </tr>\n",
              "    <tr>\n",
              "      <th>1</th>\n",
              "      <td>21.6</td>\n",
              "    </tr>\n",
              "    <tr>\n",
              "      <th>2</th>\n",
              "      <td>34.7</td>\n",
              "    </tr>\n",
              "    <tr>\n",
              "      <th>3</th>\n",
              "      <td>33.4</td>\n",
              "    </tr>\n",
              "    <tr>\n",
              "      <th>4</th>\n",
              "      <td>36.2</td>\n",
              "    </tr>\n",
              "  </tbody>\n",
              "</table>\n",
              "</div>"
            ],
            "text/plain": [
              "   MEDV\n",
              "0  24.0\n",
              "1  21.6\n",
              "2  34.7\n",
              "3  33.4\n",
              "4  36.2"
            ]
          },
          "metadata": {
            "tags": []
          },
          "execution_count": 74
        }
      ]
    },
    {
      "cell_type": "markdown",
      "metadata": {
        "id": "3KInP0QhpcmX"
      },
      "source": [
        "### 2. Create a scatterplot showing the relationship between the feature LSTAT and the target value MEDV. Does the relationship appear to be linear?"
      ]
    },
    {
      "cell_type": "code",
      "metadata": {
        "colab": {
          "base_uri": "https://localhost:8080/",
          "height": 279
        },
        "id": "xuOdn3ympcmX",
        "outputId": "48b08754-0349-4ee2-a4e4-a74cd33f51d1"
      },
      "source": [
        "import matplotlib.pyplot as plt\n",
        "\n",
        "\n",
        "features = df_boston_features['LSTAT']\n",
        "#target = df_boston_target['MEDV']\n",
        "\n",
        "#plt.figure(figsize=(25,25))\n",
        "for i,col in enumerate(features):\n",
        "    #plt.subplot(2, 2, i+1)\n",
        "    x = df_boston_features['LSTAT']\n",
        "    y = df_boston_target['MEDV']\n",
        "    plt.scatter(x,y,marker=\"o\")\n",
        "    plt.xlabel('LSTAT')\n",
        "    plt.ylabel('MEDV')"
      ],
      "execution_count": null,
      "outputs": [
        {
          "output_type": "display_data",
          "data": {
            "image/png": "[encoded data removed]",
            "text/plain": [
              "<Figure size 432x288 with 1 Axes>"
            ]
          },
          "metadata": {
            "tags": [],
            "needs_background": "light"
          }
        }
      ]
    },
    {
      "cell_type": "markdown",
      "metadata": {
        "id": "DBCsFJHnpcmX"
      },
      "source": [
        "### 3. Create and fit() an sklearn.linear_model.LinearRegression model using LSTAT as a predictor of MEDV. Using the coef_ and intercept_ attributes of the model, what is the equation for MEDV as a function of LSTAT?"
      ]
    },
    {
      "cell_type": "code",
      "metadata": {
        "scrolled": true,
        "colab": {
          "base_uri": "https://localhost:8080/"
        },
        "id": "zMncbob4pcmX",
        "outputId": "9afef97e-37c2-4276-c8cd-12d94b927d77"
      },
      "source": [
        "import numpy as np\n",
        "from sklearn.linear_model import LinearRegression\n",
        "\n",
        "dataset = pd.DataFrame(data=df_boston_features['LSTAT'], columns=['LSTAT'])\n",
        "dataset['MEDV'] = df_boston_target['MEDV']\n",
        "\n",
        "lr = LinearRegression()\n",
        "x = dataset[['LSTAT']]\n",
        "y = dataset[['MEDV']] #target\n",
        "\n",
        "lr.fit(x,y)\n",
        "\n",
        "print(\"intercept_: \", lr.intercept_);\n",
        "print(\"coef_ : \", lr.coef_);"
      ],
      "execution_count": null,
      "outputs": [
        {
          "output_type": "stream",
          "text": [
            "intercept_:  [34.55384088]\n",
            "coef_ :  [[-0.95004935]]\n"
          ],
          "name": "stdout"
        }
      ]
    },
    {
      "cell_type": "markdown",
      "metadata": {
        "id": "awvWTXFhpcmX"
      },
      "source": [
        "### 4. Use the predict() method of the model to find the response for each value of the LSTAT attribute in the dataset. Using sklearn.metrics.mean_squared_error(), find the average loss 𝓛 for the model"
      ]
    },
    {
      "cell_type": "code",
      "metadata": {
        "colab": {
          "base_uri": "https://localhost:8080/"
        },
        "id": "xzE9bxG5pcmX",
        "outputId": "881f60fc-fb04-436b-bbfd-f3e36ac0e8a9"
      },
      "source": [
        "from sklearn.metrics import mean_squared_error\n",
        "\n",
        "predictValue = lr.predict(x)\n",
        "print(\"average squared loss: \", mean_squared_error(y ,predictValue, squared = True))"
      ],
      "execution_count": null,
      "outputs": [
        {
          "output_type": "stream",
          "text": [
            "average squared loss:  38.48296722989415\n"
          ],
          "name": "stdout"
        }
      ]
    },
    {
      "cell_type": "markdown",
      "metadata": {
        "id": "2HaZm7gcpcmX"
      },
      "source": [
        "### 5. Add a line to your scatter plot representing the least squares fit to the data. How well does the model fit the data?"
      ]
    },
    {
      "cell_type": "code",
      "metadata": {
        "colab": {
          "base_uri": "https://localhost:8080/",
          "height": 296
        },
        "id": "HvDGZWD1pcmY",
        "outputId": "1c7386d1-6a88-480f-db1e-265e97a4b621"
      },
      "source": [
        "plt.scatter(x, y)\n",
        "plt.plot(x, predictValue, color = \"red\")\n",
        "plt.xlabel('LSTAT')\n",
        "plt.ylabel('MEDV')"
      ],
      "execution_count": null,
      "outputs": [
        {
          "output_type": "execute_result",
          "data": {
            "text/plain": [
              "Text(0, 0.5, 'MEDV')"
            ]
          },
          "metadata": {
            "tags": []
          },
          "execution_count": 78
        },
        {
          "output_type": "display_data",
          "data": {
            "image/png": "[encoded data removed]",
            "text/plain": [
              "<Figure size 432x288 with 1 Axes>"
            ]
          },
          "metadata": {
            "tags": [],
            "needs_background": "light"
          }
        }
      ]
    },
    {
      "cell_type": "markdown",
      "metadata": {
        "id": "jdDyrLaMpcmY"
      },
      "source": [
        "#### The model fit the data well."
      ]
    },
    {
      "cell_type": "markdown",
      "metadata": {
        "id": "Hi2VA9C7pcmY"
      },
      "source": [
        "### 6. Now repeat experiments (3) and (4) using all 13 input features at the same time. How does the average loss change?"
      ]
    },
    {
      "cell_type": "code",
      "metadata": {
        "colab": {
          "base_uri": "https://localhost:8080/"
        },
        "id": "JbSacA8lpcmY",
        "outputId": "a559cd48-1749-4d16-e721-945f8f8138b0"
      },
      "source": [
        "from sklearn.model_selection import train_test_split\n",
        "\n",
        "X = df_boston_features.values\n",
        "\n",
        "Y = df_boston_target[['MEDV']].values\n",
        "\n",
        "\n",
        "X_train,X_test,Y_train,Y_test = train_test_split(X,Y,test_size = 0.2, random_state = 0)\n",
        "\n",
        "#fit\n",
        "model = LinearRegression()\n",
        "reg = model.fit(X_train,Y_train)\n",
        "\n",
        "#get new predicted\n",
        "predictValue = reg.predict(X)\n",
        "print(\"average squared loss: \", mean_squared_error(Y ,predictValue, squared = True))\n",
        "\n",
        "#for feature in df_boston_features:\n",
        "    \n",
        "    #dataset = pd.DataFrame(data=df_boston_features[feature], columns=[feature])\n",
        "    #dataset['MEDV'] = df_boston_target['MEDV']\n",
        "    \n",
        "    #lr = LinearRegression()\n",
        "    #x = dataset[[feature]]\n",
        "    #y = dataset[['MEDV']] #target\n",
        "\n",
        "    #lr.fit(x,y)\n",
        "    \n",
        "    #print(feature)\n",
        "    #print(\"intercept_: \", lr.intercept_);\n",
        "   # print(\"coef_ : \", lr.coef_);\n",
        "    \n",
        "   #predictValue = lr.predict(x)\n",
        " #print(\"average squared loss: \", mean_squared_error(x ,predictValue, squared = True))"
      ],
      "execution_count": null,
      "outputs": [
        {
          "output_type": "stream",
          "text": [
            "average squared loss:  22.173300241129716\n"
          ],
          "name": "stdout"
        }
      ]
    },
    {
      "cell_type": "markdown",
      "metadata": {
        "id": "yuB81h4TpcmY"
      },
      "source": [
        "#### expect AGE, TAX, and B, the other average squared loss are all within similar range."
      ]
    },
    {
      "cell_type": "markdown",
      "metadata": {
        "id": "8ZZtVId9pcmY"
      },
      "source": [
        "### 7. Based on the coef_ attributes of the new model, which features are desirable in a home? Which features detract from its value?"
      ]
    },
    {
      "cell_type": "markdown",
      "metadata": {
        "id": "SQbPHnovpcmY"
      },
      "source": [
        "#### For coef_ value that is positive (ZN, CHAS, RM, DIS, B) will be desirable in a home. Other that have negative coef_ value (CRIM, ZN, INDUS, NOX, AGE, RAD, TAX, PTRATIO, LSTAT) will detract from its value."
      ]
    },
    {
      "cell_type": "markdown",
      "metadata": {
        "id": "zjIkghXHpcmY"
      },
      "source": [
        "### 8. Given the coef_ attributes, find the following for each feature: how much does a one unit increase in that feature change the median value of the home? Give your answer in dollars."
      ]
    },
    {
      "cell_type": "code",
      "metadata": {
        "colab": {
          "base_uri": "https://localhost:8080/"
        },
        "id": "A0A-yGOapcmY",
        "outputId": "63c7a304-e495-4ad8-85a4-96ee392e4a8a"
      },
      "source": [
        "#dataset = pd.DataFrame(data=df_boston_features[feature], columns=[feature])\n",
        "#coeff_attributes = pd.DataFrame(reg.coef_,df_boston_features.columns, columns=['coeff_attributes'])  \n",
        "#print(coeff_attributes)\n",
        " \n",
        "\n",
        "#coeff_attributes = pd.DataFrame(reg.coef_*1000, df_boston_features.columns, columns=[\"Coefficient_Attributes\"])  \n",
        "#print(coeff_attributes)\n",
        "# Selecting all column vectors from features dataset (X)\n",
        "X_multi_comp = df_boston_features.values\n",
        "\n",
        "# Selecting all MEDV data from target values dataset (Y)\n",
        "Y_multi_comp = df_boston_target['MEDV'].values\n",
        "\n",
        "X_train_multi,X_test,Y_train_multi,Y_test = train_test_split(X_multi_comp,Y_multi_comp,test_size = 0.2, random_state = 0)\n",
        "\n",
        "# Using the fit() method for a linear regression model\n",
        "lr = LinearRegression()\n",
        "\n",
        "lr.fit(X_train_multi, Y_train_multi)\n",
        "\n",
        "#model.coef_.shape\n",
        "#for i in range(len(model.coef_)):\n",
        "coeff_attributes = pd.DataFrame(lr.coef_*1000, df_boston_features.columns, columns=[\"Coefficient_Attributes\"]) \n",
        "\n",
        "#print(coeff_attributes)\n",
        "\n",
        "\n",
        "for i, df_boston_features in enumerate(coeff_attributes.index):\n",
        "  print(\"{} change the median value of the home: ${}\\n\".format(df_boston_features, round(coeff_attributes.iloc[i,0], 2)))\n",
        "\n",
        "\n",
        "\n"
      ],
      "execution_count": null,
      "outputs": [
        {
          "output_type": "stream",
          "text": [
            "CRIM change the median value of the home: $-119.44\n",
            "\n",
            "ZN change the median value of the home: $44.78\n",
            "\n",
            "INDUS change the median value of the home: $5.49\n",
            "\n",
            "CHAS change the median value of the home: $2340.8\n",
            "\n",
            "NOX change the median value of the home: $-16123.6\n",
            "\n",
            "RM change the median value of the home: $3708.71\n",
            "\n",
            "AGE change the median value of the home: $-3.12\n",
            "\n",
            "DIS change the median value of the home: $-1386.4\n",
            "\n",
            "RAD change the median value of the home: $244.18\n",
            "\n",
            "TAX change the median value of the home: $-10.99\n",
            "\n",
            "PTRATIO change the median value of the home: $-1045.92\n",
            "\n",
            "B change the median value of the home: $8.11\n",
            "\n",
            "LSTAT change the median value of the home: $-492.79\n",
            "\n"
          ],
          "name": "stdout"
        }
      ]
    },
    {
      "cell_type": "markdown",
      "metadata": {
        "id": "IZpfbWsNpcmY"
      },
      "source": [
        "### 9. Based on the amount of change in the value of the home, which features don’t seem to be important?"
      ]
    },
    {
      "cell_type": "markdown",
      "metadata": {
        "id": "0iwGoJympcmY"
      },
      "source": [
        "#### Tax and B seems to be less important becuase it does not effect that much"
      ]
    }
  ]
}
